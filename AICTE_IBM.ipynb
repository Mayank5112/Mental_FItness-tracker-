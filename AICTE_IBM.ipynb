{
 "cells": [
  {
   "cell_type": "code",
   "execution_count": 1,
   "metadata": {
    "id": "QZZJmeubyzN4"
   },
   "outputs": [],
   "source": [
    "import numpy as np # linear algebra\n",
    "import pandas as pd # data processing, CSV file I/O (e.g. pd.read_csv)\n",
    "import seaborn as sns\n",
    "import matplotlib.pyplot as plt\n",
    "import plotly.express as px\n",
    "import warnings"
   ]
  },
  {
   "cell_type": "code",
   "execution_count": 7,
   "metadata": {
    "id": "EG_p8q6S0WBI"
   },
   "outputs": [],
   "source": [
    "df1 = pd.read_csv(\"/AICTe/prevalence-by-mental-and-substance-use-disorder.csv\")\n",
    "df2 = pd.read_csv(\"/AICTe/mental-and-substance-use-as-share-of-disease.csv\")"
   ]
  },
  {
   "cell_type": "code",
   "execution_count": 8,
   "metadata": {
    "colab": {
     "base_uri": "https://localhost:8080/",
     "height": 337
    },
    "id": "JKkZFMw105NH",
    "outputId": "579291f7-d7d5-4cde-9c56-c0097bb78e95"
   },
   "outputs": [
    {
     "data": {
      "text/html": [
       "<div>\n",
       "<style scoped>\n",
       "    .dataframe tbody tr th:only-of-type {\n",
       "        vertical-align: middle;\n",
       "    }\n",
       "\n",
       "    .dataframe tbody tr th {\n",
       "        vertical-align: top;\n",
       "    }\n",
       "\n",
       "    .dataframe thead th {\n",
       "        text-align: right;\n",
       "    }\n",
       "</style>\n",
       "<table border=\"1\" class=\"dataframe\">\n",
       "  <thead>\n",
       "    <tr style=\"text-align: right;\">\n",
       "      <th></th>\n",
       "      <th>Entity</th>\n",
       "      <th>Code</th>\n",
       "      <th>Year</th>\n",
       "      <th>Prevalence - Schizophrenia - Sex: Both - Age: Age-standardized (Percent)</th>\n",
       "      <th>Prevalence - Bipolar disorder - Sex: Both - Age: Age-standardized (Percent)</th>\n",
       "      <th>Prevalence - Eating disorders - Sex: Both - Age: Age-standardized (Percent)</th>\n",
       "      <th>Prevalence - Anxiety disorders - Sex: Both - Age: Age-standardized (Percent)</th>\n",
       "      <th>Prevalence - Drug use disorders - Sex: Both - Age: Age-standardized (Percent)</th>\n",
       "      <th>Prevalence - Depressive disorders - Sex: Both - Age: Age-standardized (Percent)</th>\n",
       "      <th>Prevalence - Alcohol use disorders - Sex: Both - Age: Age-standardized (Percent)</th>\n",
       "    </tr>\n",
       "  </thead>\n",
       "  <tbody>\n",
       "    <tr>\n",
       "      <th>0</th>\n",
       "      <td>Afghanistan</td>\n",
       "      <td>AFG</td>\n",
       "      <td>1990</td>\n",
       "      <td>0.228979</td>\n",
       "      <td>0.721207</td>\n",
       "      <td>0.131001</td>\n",
       "      <td>4.835127</td>\n",
       "      <td>0.454202</td>\n",
       "      <td>5.125291</td>\n",
       "      <td>0.444036</td>\n",
       "    </tr>\n",
       "    <tr>\n",
       "      <th>1</th>\n",
       "      <td>Afghanistan</td>\n",
       "      <td>AFG</td>\n",
       "      <td>1991</td>\n",
       "      <td>0.228120</td>\n",
       "      <td>0.719952</td>\n",
       "      <td>0.126395</td>\n",
       "      <td>4.821765</td>\n",
       "      <td>0.447112</td>\n",
       "      <td>5.116306</td>\n",
       "      <td>0.444250</td>\n",
       "    </tr>\n",
       "    <tr>\n",
       "      <th>2</th>\n",
       "      <td>Afghanistan</td>\n",
       "      <td>AFG</td>\n",
       "      <td>1992</td>\n",
       "      <td>0.227328</td>\n",
       "      <td>0.718418</td>\n",
       "      <td>0.121832</td>\n",
       "      <td>4.801434</td>\n",
       "      <td>0.441190</td>\n",
       "      <td>5.106558</td>\n",
       "      <td>0.445501</td>\n",
       "    </tr>\n",
       "    <tr>\n",
       "      <th>3</th>\n",
       "      <td>Afghanistan</td>\n",
       "      <td>AFG</td>\n",
       "      <td>1993</td>\n",
       "      <td>0.226468</td>\n",
       "      <td>0.717452</td>\n",
       "      <td>0.117942</td>\n",
       "      <td>4.789363</td>\n",
       "      <td>0.435581</td>\n",
       "      <td>5.100328</td>\n",
       "      <td>0.445958</td>\n",
       "    </tr>\n",
       "    <tr>\n",
       "      <th>4</th>\n",
       "      <td>Afghanistan</td>\n",
       "      <td>AFG</td>\n",
       "      <td>1994</td>\n",
       "      <td>0.225567</td>\n",
       "      <td>0.717012</td>\n",
       "      <td>0.114547</td>\n",
       "      <td>4.784923</td>\n",
       "      <td>0.431822</td>\n",
       "      <td>5.099424</td>\n",
       "      <td>0.445779</td>\n",
       "    </tr>\n",
       "  </tbody>\n",
       "</table>\n",
       "</div>"
      ],
      "text/plain": [
       "        Entity Code  Year  \\\n",
       "0  Afghanistan  AFG  1990   \n",
       "1  Afghanistan  AFG  1991   \n",
       "2  Afghanistan  AFG  1992   \n",
       "3  Afghanistan  AFG  1993   \n",
       "4  Afghanistan  AFG  1994   \n",
       "\n",
       "   Prevalence - Schizophrenia - Sex: Both - Age: Age-standardized (Percent)  \\\n",
       "0                                           0.228979                          \n",
       "1                                           0.228120                          \n",
       "2                                           0.227328                          \n",
       "3                                           0.226468                          \n",
       "4                                           0.225567                          \n",
       "\n",
       "   Prevalence - Bipolar disorder - Sex: Both - Age: Age-standardized (Percent)  \\\n",
       "0                                           0.721207                             \n",
       "1                                           0.719952                             \n",
       "2                                           0.718418                             \n",
       "3                                           0.717452                             \n",
       "4                                           0.717012                             \n",
       "\n",
       "   Prevalence - Eating disorders - Sex: Both - Age: Age-standardized (Percent)  \\\n",
       "0                                           0.131001                             \n",
       "1                                           0.126395                             \n",
       "2                                           0.121832                             \n",
       "3                                           0.117942                             \n",
       "4                                           0.114547                             \n",
       "\n",
       "   Prevalence - Anxiety disorders - Sex: Both - Age: Age-standardized (Percent)  \\\n",
       "0                                           4.835127                              \n",
       "1                                           4.821765                              \n",
       "2                                           4.801434                              \n",
       "3                                           4.789363                              \n",
       "4                                           4.784923                              \n",
       "\n",
       "   Prevalence - Drug use disorders - Sex: Both - Age: Age-standardized (Percent)  \\\n",
       "0                                           0.454202                               \n",
       "1                                           0.447112                               \n",
       "2                                           0.441190                               \n",
       "3                                           0.435581                               \n",
       "4                                           0.431822                               \n",
       "\n",
       "   Prevalence - Depressive disorders - Sex: Both - Age: Age-standardized (Percent)  \\\n",
       "0                                           5.125291                                 \n",
       "1                                           5.116306                                 \n",
       "2                                           5.106558                                 \n",
       "3                                           5.100328                                 \n",
       "4                                           5.099424                                 \n",
       "\n",
       "   Prevalence - Alcohol use disorders - Sex: Both - Age: Age-standardized (Percent)  \n",
       "0                                           0.444036                                 \n",
       "1                                           0.444250                                 \n",
       "2                                           0.445501                                 \n",
       "3                                           0.445958                                 \n",
       "4                                           0.445779                                 "
      ]
     },
     "execution_count": 8,
     "metadata": {},
     "output_type": "execute_result"
    }
   ],
   "source": [
    "df1.head(5)"
   ]
  },
  {
   "cell_type": "code",
   "execution_count": 9,
   "metadata": {
    "colab": {
     "base_uri": "https://localhost:8080/",
     "height": 206
    },
    "id": "Nz6-Inyj1Au0",
    "outputId": "1202af5d-4b87-42da-b86c-960f8fe18c9b"
   },
   "outputs": [
    {
     "data": {
      "text/html": [
       "<div>\n",
       "<style scoped>\n",
       "    .dataframe tbody tr th:only-of-type {\n",
       "        vertical-align: middle;\n",
       "    }\n",
       "\n",
       "    .dataframe tbody tr th {\n",
       "        vertical-align: top;\n",
       "    }\n",
       "\n",
       "    .dataframe thead th {\n",
       "        text-align: right;\n",
       "    }\n",
       "</style>\n",
       "<table border=\"1\" class=\"dataframe\">\n",
       "  <thead>\n",
       "    <tr style=\"text-align: right;\">\n",
       "      <th></th>\n",
       "      <th>Entity</th>\n",
       "      <th>Code</th>\n",
       "      <th>Year</th>\n",
       "      <th>DALYs (Disability-Adjusted Life Years) - Mental disorders - Sex: Both - Age: All Ages (Percent)</th>\n",
       "    </tr>\n",
       "  </thead>\n",
       "  <tbody>\n",
       "    <tr>\n",
       "      <th>0</th>\n",
       "      <td>Afghanistan</td>\n",
       "      <td>AFG</td>\n",
       "      <td>1990</td>\n",
       "      <td>1.696670</td>\n",
       "    </tr>\n",
       "    <tr>\n",
       "      <th>1</th>\n",
       "      <td>Afghanistan</td>\n",
       "      <td>AFG</td>\n",
       "      <td>1991</td>\n",
       "      <td>1.734281</td>\n",
       "    </tr>\n",
       "    <tr>\n",
       "      <th>2</th>\n",
       "      <td>Afghanistan</td>\n",
       "      <td>AFG</td>\n",
       "      <td>1992</td>\n",
       "      <td>1.791189</td>\n",
       "    </tr>\n",
       "    <tr>\n",
       "      <th>3</th>\n",
       "      <td>Afghanistan</td>\n",
       "      <td>AFG</td>\n",
       "      <td>1993</td>\n",
       "      <td>1.776779</td>\n",
       "    </tr>\n",
       "    <tr>\n",
       "      <th>4</th>\n",
       "      <td>Afghanistan</td>\n",
       "      <td>AFG</td>\n",
       "      <td>1994</td>\n",
       "      <td>1.712986</td>\n",
       "    </tr>\n",
       "  </tbody>\n",
       "</table>\n",
       "</div>"
      ],
      "text/plain": [
       "        Entity Code  Year  \\\n",
       "0  Afghanistan  AFG  1990   \n",
       "1  Afghanistan  AFG  1991   \n",
       "2  Afghanistan  AFG  1992   \n",
       "3  Afghanistan  AFG  1993   \n",
       "4  Afghanistan  AFG  1994   \n",
       "\n",
       "   DALYs (Disability-Adjusted Life Years) - Mental disorders - Sex: Both - Age: All Ages (Percent)  \n",
       "0                                           1.696670                                                \n",
       "1                                           1.734281                                                \n",
       "2                                           1.791189                                                \n",
       "3                                           1.776779                                                \n",
       "4                                           1.712986                                                "
      ]
     },
     "execution_count": 9,
     "metadata": {},
     "output_type": "execute_result"
    }
   ],
   "source": [
    "df2.head(5)"
   ]
  },
  {
   "cell_type": "code",
   "execution_count": 10,
   "metadata": {
    "colab": {
     "base_uri": "https://localhost:8080/",
     "height": 354
    },
    "id": "ySrT2jO_1EfV",
    "outputId": "70e742d1-e95b-4e03-836b-868cde022bcc"
   },
   "outputs": [
    {
     "data": {
      "text/html": [
       "<div>\n",
       "<style scoped>\n",
       "    .dataframe tbody tr th:only-of-type {\n",
       "        vertical-align: middle;\n",
       "    }\n",
       "\n",
       "    .dataframe tbody tr th {\n",
       "        vertical-align: top;\n",
       "    }\n",
       "\n",
       "    .dataframe thead th {\n",
       "        text-align: right;\n",
       "    }\n",
       "</style>\n",
       "<table border=\"1\" class=\"dataframe\">\n",
       "  <thead>\n",
       "    <tr style=\"text-align: right;\">\n",
       "      <th></th>\n",
       "      <th>Entity</th>\n",
       "      <th>Code</th>\n",
       "      <th>Year</th>\n",
       "      <th>Prevalence - Schizophrenia - Sex: Both - Age: Age-standardized (Percent)</th>\n",
       "      <th>Prevalence - Bipolar disorder - Sex: Both - Age: Age-standardized (Percent)</th>\n",
       "      <th>Prevalence - Eating disorders - Sex: Both - Age: Age-standardized (Percent)</th>\n",
       "      <th>Prevalence - Anxiety disorders - Sex: Both - Age: Age-standardized (Percent)</th>\n",
       "      <th>Prevalence - Drug use disorders - Sex: Both - Age: Age-standardized (Percent)</th>\n",
       "      <th>Prevalence - Depressive disorders - Sex: Both - Age: Age-standardized (Percent)</th>\n",
       "      <th>Prevalence - Alcohol use disorders - Sex: Both - Age: Age-standardized (Percent)</th>\n",
       "      <th>DALYs (Disability-Adjusted Life Years) - Mental disorders - Sex: Both - Age: All Ages (Percent)</th>\n",
       "    </tr>\n",
       "  </thead>\n",
       "  <tbody>\n",
       "    <tr>\n",
       "      <th>0</th>\n",
       "      <td>Afghanistan</td>\n",
       "      <td>AFG</td>\n",
       "      <td>1990</td>\n",
       "      <td>0.228979</td>\n",
       "      <td>0.721207</td>\n",
       "      <td>0.131001</td>\n",
       "      <td>4.835127</td>\n",
       "      <td>0.454202</td>\n",
       "      <td>5.125291</td>\n",
       "      <td>0.444036</td>\n",
       "      <td>1.696670</td>\n",
       "    </tr>\n",
       "    <tr>\n",
       "      <th>1</th>\n",
       "      <td>Afghanistan</td>\n",
       "      <td>AFG</td>\n",
       "      <td>1991</td>\n",
       "      <td>0.228120</td>\n",
       "      <td>0.719952</td>\n",
       "      <td>0.126395</td>\n",
       "      <td>4.821765</td>\n",
       "      <td>0.447112</td>\n",
       "      <td>5.116306</td>\n",
       "      <td>0.444250</td>\n",
       "      <td>1.734281</td>\n",
       "    </tr>\n",
       "    <tr>\n",
       "      <th>2</th>\n",
       "      <td>Afghanistan</td>\n",
       "      <td>AFG</td>\n",
       "      <td>1992</td>\n",
       "      <td>0.227328</td>\n",
       "      <td>0.718418</td>\n",
       "      <td>0.121832</td>\n",
       "      <td>4.801434</td>\n",
       "      <td>0.441190</td>\n",
       "      <td>5.106558</td>\n",
       "      <td>0.445501</td>\n",
       "      <td>1.791189</td>\n",
       "    </tr>\n",
       "    <tr>\n",
       "      <th>3</th>\n",
       "      <td>Afghanistan</td>\n",
       "      <td>AFG</td>\n",
       "      <td>1993</td>\n",
       "      <td>0.226468</td>\n",
       "      <td>0.717452</td>\n",
       "      <td>0.117942</td>\n",
       "      <td>4.789363</td>\n",
       "      <td>0.435581</td>\n",
       "      <td>5.100328</td>\n",
       "      <td>0.445958</td>\n",
       "      <td>1.776779</td>\n",
       "    </tr>\n",
       "    <tr>\n",
       "      <th>4</th>\n",
       "      <td>Afghanistan</td>\n",
       "      <td>AFG</td>\n",
       "      <td>1994</td>\n",
       "      <td>0.225567</td>\n",
       "      <td>0.717012</td>\n",
       "      <td>0.114547</td>\n",
       "      <td>4.784923</td>\n",
       "      <td>0.431822</td>\n",
       "      <td>5.099424</td>\n",
       "      <td>0.445779</td>\n",
       "      <td>1.712986</td>\n",
       "    </tr>\n",
       "  </tbody>\n",
       "</table>\n",
       "</div>"
      ],
      "text/plain": [
       "        Entity Code  Year  \\\n",
       "0  Afghanistan  AFG  1990   \n",
       "1  Afghanistan  AFG  1991   \n",
       "2  Afghanistan  AFG  1992   \n",
       "3  Afghanistan  AFG  1993   \n",
       "4  Afghanistan  AFG  1994   \n",
       "\n",
       "   Prevalence - Schizophrenia - Sex: Both - Age: Age-standardized (Percent)  \\\n",
       "0                                           0.228979                          \n",
       "1                                           0.228120                          \n",
       "2                                           0.227328                          \n",
       "3                                           0.226468                          \n",
       "4                                           0.225567                          \n",
       "\n",
       "   Prevalence - Bipolar disorder - Sex: Both - Age: Age-standardized (Percent)  \\\n",
       "0                                           0.721207                             \n",
       "1                                           0.719952                             \n",
       "2                                           0.718418                             \n",
       "3                                           0.717452                             \n",
       "4                                           0.717012                             \n",
       "\n",
       "   Prevalence - Eating disorders - Sex: Both - Age: Age-standardized (Percent)  \\\n",
       "0                                           0.131001                             \n",
       "1                                           0.126395                             \n",
       "2                                           0.121832                             \n",
       "3                                           0.117942                             \n",
       "4                                           0.114547                             \n",
       "\n",
       "   Prevalence - Anxiety disorders - Sex: Both - Age: Age-standardized (Percent)  \\\n",
       "0                                           4.835127                              \n",
       "1                                           4.821765                              \n",
       "2                                           4.801434                              \n",
       "3                                           4.789363                              \n",
       "4                                           4.784923                              \n",
       "\n",
       "   Prevalence - Drug use disorders - Sex: Both - Age: Age-standardized (Percent)  \\\n",
       "0                                           0.454202                               \n",
       "1                                           0.447112                               \n",
       "2                                           0.441190                               \n",
       "3                                           0.435581                               \n",
       "4                                           0.431822                               \n",
       "\n",
       "   Prevalence - Depressive disorders - Sex: Both - Age: Age-standardized (Percent)  \\\n",
       "0                                           5.125291                                 \n",
       "1                                           5.116306                                 \n",
       "2                                           5.106558                                 \n",
       "3                                           5.100328                                 \n",
       "4                                           5.099424                                 \n",
       "\n",
       "   Prevalence - Alcohol use disorders - Sex: Both - Age: Age-standardized (Percent)  \\\n",
       "0                                           0.444036                                  \n",
       "1                                           0.444250                                  \n",
       "2                                           0.445501                                  \n",
       "3                                           0.445958                                  \n",
       "4                                           0.445779                                  \n",
       "\n",
       "   DALYs (Disability-Adjusted Life Years) - Mental disorders - Sex: Both - Age: All Ages (Percent)  \n",
       "0                                           1.696670                                                \n",
       "1                                           1.734281                                                \n",
       "2                                           1.791189                                                \n",
       "3                                           1.776779                                                \n",
       "4                                           1.712986                                                "
      ]
     },
     "execution_count": 10,
     "metadata": {},
     "output_type": "execute_result"
    }
   ],
   "source": [
    "data = pd.merge(df1, df2)\n",
    "data.head()"
   ]
  },
  {
   "cell_type": "code",
   "execution_count": 11,
   "metadata": {
    "colab": {
     "base_uri": "https://localhost:8080/"
    },
    "id": "oG6YvmI21O1C",
    "outputId": "70cfb459-90f9-4212-9799-31acbde7ccae"
   },
   "outputs": [
    {
     "data": {
      "text/plain": [
       "Entity                                                                                               0\n",
       "Code                                                                                               690\n",
       "Year                                                                                                 0\n",
       "Prevalence - Schizophrenia - Sex: Both - Age: Age-standardized (Percent)                             0\n",
       "Prevalence - Bipolar disorder - Sex: Both - Age: Age-standardized (Percent)                          0\n",
       "Prevalence - Eating disorders - Sex: Both - Age: Age-standardized (Percent)                          0\n",
       "Prevalence - Anxiety disorders - Sex: Both - Age: Age-standardized (Percent)                         0\n",
       "Prevalence - Drug use disorders - Sex: Both - Age: Age-standardized (Percent)                        0\n",
       "Prevalence - Depressive disorders - Sex: Both - Age: Age-standardized (Percent)                      0\n",
       "Prevalence - Alcohol use disorders - Sex: Both - Age: Age-standardized (Percent)                     0\n",
       "DALYs (Disability-Adjusted Life Years) - Mental disorders - Sex: Both - Age: All Ages (Percent)      0\n",
       "dtype: int64"
      ]
     },
     "execution_count": 11,
     "metadata": {},
     "output_type": "execute_result"
    }
   ],
   "source": [
    "data.isnull().sum()"
   ]
  },
  {
   "cell_type": "code",
   "execution_count": 12,
   "metadata": {
    "id": "33QXm35f1ZsU"
   },
   "outputs": [],
   "source": [
    "# Code is just the country abbreviation so we can either drop it of fill nulll values with corresponding country name\n",
    "# here we will drop it as we only need one identifier for country name we will drop the code column\n",
    "data.drop(['Code'],axis=1,inplace=True)"
   ]
  },
  {
   "cell_type": "code",
   "execution_count": 13,
   "metadata": {
    "colab": {
     "base_uri": "https://localhost:8080/"
    },
    "id": "gDaw9it915H0",
    "outputId": "e5aa50c0-4b2e-47c3-b1a9-403db43b1083"
   },
   "outputs": [
    {
     "data": {
      "text/plain": [
       "Entity                                                                                             0\n",
       "Year                                                                                               0\n",
       "Prevalence - Schizophrenia - Sex: Both - Age: Age-standardized (Percent)                           0\n",
       "Prevalence - Bipolar disorder - Sex: Both - Age: Age-standardized (Percent)                        0\n",
       "Prevalence - Eating disorders - Sex: Both - Age: Age-standardized (Percent)                        0\n",
       "Prevalence - Anxiety disorders - Sex: Both - Age: Age-standardized (Percent)                       0\n",
       "Prevalence - Drug use disorders - Sex: Both - Age: Age-standardized (Percent)                      0\n",
       "Prevalence - Depressive disorders - Sex: Both - Age: Age-standardized (Percent)                    0\n",
       "Prevalence - Alcohol use disorders - Sex: Both - Age: Age-standardized (Percent)                   0\n",
       "DALYs (Disability-Adjusted Life Years) - Mental disorders - Sex: Both - Age: All Ages (Percent)    0\n",
       "dtype: int64"
      ]
     },
     "execution_count": 13,
     "metadata": {},
     "output_type": "execute_result"
    }
   ],
   "source": [
    "# no null values now dataset is clean and consistent\n",
    "data.isnull().sum()"
   ]
  },
  {
   "cell_type": "code",
   "execution_count": 14,
   "metadata": {
    "colab": {
     "base_uri": "https://localhost:8080/",
     "height": 354
    },
    "id": "cMJ7amE72QGE",
    "outputId": "1dcb5f37-c3ee-43e9-9b79-ecccf8f43b57"
   },
   "outputs": [
    {
     "data": {
      "text/html": [
       "<div>\n",
       "<style scoped>\n",
       "    .dataframe tbody tr th:only-of-type {\n",
       "        vertical-align: middle;\n",
       "    }\n",
       "\n",
       "    .dataframe tbody tr th {\n",
       "        vertical-align: top;\n",
       "    }\n",
       "\n",
       "    .dataframe thead th {\n",
       "        text-align: right;\n",
       "    }\n",
       "</style>\n",
       "<table border=\"1\" class=\"dataframe\">\n",
       "  <thead>\n",
       "    <tr style=\"text-align: right;\">\n",
       "      <th></th>\n",
       "      <th>Entity</th>\n",
       "      <th>Year</th>\n",
       "      <th>Prevalence - Schizophrenia - Sex: Both - Age: Age-standardized (Percent)</th>\n",
       "      <th>Prevalence - Bipolar disorder - Sex: Both - Age: Age-standardized (Percent)</th>\n",
       "      <th>Prevalence - Eating disorders - Sex: Both - Age: Age-standardized (Percent)</th>\n",
       "      <th>Prevalence - Anxiety disorders - Sex: Both - Age: Age-standardized (Percent)</th>\n",
       "      <th>Prevalence - Drug use disorders - Sex: Both - Age: Age-standardized (Percent)</th>\n",
       "      <th>Prevalence - Depressive disorders - Sex: Both - Age: Age-standardized (Percent)</th>\n",
       "      <th>Prevalence - Alcohol use disorders - Sex: Both - Age: Age-standardized (Percent)</th>\n",
       "      <th>DALYs (Disability-Adjusted Life Years) - Mental disorders - Sex: Both - Age: All Ages (Percent)</th>\n",
       "    </tr>\n",
       "  </thead>\n",
       "  <tbody>\n",
       "    <tr>\n",
       "      <th>0</th>\n",
       "      <td>Afghanistan</td>\n",
       "      <td>1990</td>\n",
       "      <td>0.228979</td>\n",
       "      <td>0.721207</td>\n",
       "      <td>0.131001</td>\n",
       "      <td>4.835127</td>\n",
       "      <td>0.454202</td>\n",
       "      <td>5.125291</td>\n",
       "      <td>0.444036</td>\n",
       "      <td>1.696670</td>\n",
       "    </tr>\n",
       "    <tr>\n",
       "      <th>1</th>\n",
       "      <td>Afghanistan</td>\n",
       "      <td>1991</td>\n",
       "      <td>0.228120</td>\n",
       "      <td>0.719952</td>\n",
       "      <td>0.126395</td>\n",
       "      <td>4.821765</td>\n",
       "      <td>0.447112</td>\n",
       "      <td>5.116306</td>\n",
       "      <td>0.444250</td>\n",
       "      <td>1.734281</td>\n",
       "    </tr>\n",
       "    <tr>\n",
       "      <th>2</th>\n",
       "      <td>Afghanistan</td>\n",
       "      <td>1992</td>\n",
       "      <td>0.227328</td>\n",
       "      <td>0.718418</td>\n",
       "      <td>0.121832</td>\n",
       "      <td>4.801434</td>\n",
       "      <td>0.441190</td>\n",
       "      <td>5.106558</td>\n",
       "      <td>0.445501</td>\n",
       "      <td>1.791189</td>\n",
       "    </tr>\n",
       "    <tr>\n",
       "      <th>3</th>\n",
       "      <td>Afghanistan</td>\n",
       "      <td>1993</td>\n",
       "      <td>0.226468</td>\n",
       "      <td>0.717452</td>\n",
       "      <td>0.117942</td>\n",
       "      <td>4.789363</td>\n",
       "      <td>0.435581</td>\n",
       "      <td>5.100328</td>\n",
       "      <td>0.445958</td>\n",
       "      <td>1.776779</td>\n",
       "    </tr>\n",
       "    <tr>\n",
       "      <th>4</th>\n",
       "      <td>Afghanistan</td>\n",
       "      <td>1994</td>\n",
       "      <td>0.225567</td>\n",
       "      <td>0.717012</td>\n",
       "      <td>0.114547</td>\n",
       "      <td>4.784923</td>\n",
       "      <td>0.431822</td>\n",
       "      <td>5.099424</td>\n",
       "      <td>0.445779</td>\n",
       "      <td>1.712986</td>\n",
       "    </tr>\n",
       "  </tbody>\n",
       "</table>\n",
       "</div>"
      ],
      "text/plain": [
       "        Entity  Year  \\\n",
       "0  Afghanistan  1990   \n",
       "1  Afghanistan  1991   \n",
       "2  Afghanistan  1992   \n",
       "3  Afghanistan  1993   \n",
       "4  Afghanistan  1994   \n",
       "\n",
       "   Prevalence - Schizophrenia - Sex: Both - Age: Age-standardized (Percent)  \\\n",
       "0                                           0.228979                          \n",
       "1                                           0.228120                          \n",
       "2                                           0.227328                          \n",
       "3                                           0.226468                          \n",
       "4                                           0.225567                          \n",
       "\n",
       "   Prevalence - Bipolar disorder - Sex: Both - Age: Age-standardized (Percent)  \\\n",
       "0                                           0.721207                             \n",
       "1                                           0.719952                             \n",
       "2                                           0.718418                             \n",
       "3                                           0.717452                             \n",
       "4                                           0.717012                             \n",
       "\n",
       "   Prevalence - Eating disorders - Sex: Both - Age: Age-standardized (Percent)  \\\n",
       "0                                           0.131001                             \n",
       "1                                           0.126395                             \n",
       "2                                           0.121832                             \n",
       "3                                           0.117942                             \n",
       "4                                           0.114547                             \n",
       "\n",
       "   Prevalence - Anxiety disorders - Sex: Both - Age: Age-standardized (Percent)  \\\n",
       "0                                           4.835127                              \n",
       "1                                           4.821765                              \n",
       "2                                           4.801434                              \n",
       "3                                           4.789363                              \n",
       "4                                           4.784923                              \n",
       "\n",
       "   Prevalence - Drug use disorders - Sex: Both - Age: Age-standardized (Percent)  \\\n",
       "0                                           0.454202                               \n",
       "1                                           0.447112                               \n",
       "2                                           0.441190                               \n",
       "3                                           0.435581                               \n",
       "4                                           0.431822                               \n",
       "\n",
       "   Prevalence - Depressive disorders - Sex: Both - Age: Age-standardized (Percent)  \\\n",
       "0                                           5.125291                                 \n",
       "1                                           5.116306                                 \n",
       "2                                           5.106558                                 \n",
       "3                                           5.100328                                 \n",
       "4                                           5.099424                                 \n",
       "\n",
       "   Prevalence - Alcohol use disorders - Sex: Both - Age: Age-standardized (Percent)  \\\n",
       "0                                           0.444036                                  \n",
       "1                                           0.444250                                  \n",
       "2                                           0.445501                                  \n",
       "3                                           0.445958                                  \n",
       "4                                           0.445779                                  \n",
       "\n",
       "   DALYs (Disability-Adjusted Life Years) - Mental disorders - Sex: Both - Age: All Ages (Percent)  \n",
       "0                                           1.696670                                                \n",
       "1                                           1.734281                                                \n",
       "2                                           1.791189                                                \n",
       "3                                           1.776779                                                \n",
       "4                                           1.712986                                                "
      ]
     },
     "execution_count": 14,
     "metadata": {},
     "output_type": "execute_result"
    }
   ],
   "source": [
    "data.head(5)"
   ]
  },
  {
   "cell_type": "code",
   "execution_count": 15,
   "metadata": {
    "colab": {
     "base_uri": "https://localhost:8080/"
    },
    "id": "I87048wK2Szy",
    "outputId": "0cc86c49-bd78-4d91-f3e7-175af2e89db8"
   },
   "outputs": [
    {
     "data": {
      "text/plain": [
       "(68400, (6840, 10))"
      ]
     },
     "execution_count": 15,
     "metadata": {},
     "output_type": "execute_result"
    }
   ],
   "source": [
    "data.size,data.shape"
   ]
  },
  {
   "cell_type": "code",
   "execution_count": 16,
   "metadata": {
    "colab": {
     "base_uri": "https://localhost:8080/"
    },
    "id": "9YFF24Ny2uKE",
    "outputId": "433039c5-30e4-43e7-881b-dfb6b358164d"
   },
   "outputs": [
    {
     "data": {
      "text/plain": [
       "<bound method NDFrame.describe of            Entity  Year  \\\n",
       "0     Afghanistan  1990   \n",
       "1     Afghanistan  1991   \n",
       "2     Afghanistan  1992   \n",
       "3     Afghanistan  1993   \n",
       "4     Afghanistan  1994   \n",
       "...           ...   ...   \n",
       "6835     Zimbabwe  2015   \n",
       "6836     Zimbabwe  2016   \n",
       "6837     Zimbabwe  2017   \n",
       "6838     Zimbabwe  2018   \n",
       "6839     Zimbabwe  2019   \n",
       "\n",
       "      Prevalence - Schizophrenia - Sex: Both - Age: Age-standardized (Percent)  \\\n",
       "0                                              0.228979                          \n",
       "1                                              0.228120                          \n",
       "2                                              0.227328                          \n",
       "3                                              0.226468                          \n",
       "4                                              0.225567                          \n",
       "...                                                 ...                          \n",
       "6835                                           0.209359                          \n",
       "6836                                           0.209979                          \n",
       "6837                                           0.210631                          \n",
       "6838                                           0.211237                          \n",
       "6839                                           0.211969                          \n",
       "\n",
       "      Prevalence - Bipolar disorder - Sex: Both - Age: Age-standardized (Percent)  \\\n",
       "0                                              0.721207                             \n",
       "1                                              0.719952                             \n",
       "2                                              0.718418                             \n",
       "3                                              0.717452                             \n",
       "4                                              0.717012                             \n",
       "...                                                 ...                             \n",
       "6835                                           0.560882                             \n",
       "6836                                           0.561768                             \n",
       "6837                                           0.562612                             \n",
       "6838                                           0.563283                             \n",
       "6839                                           0.563820                             \n",
       "\n",
       "      Prevalence - Eating disorders - Sex: Both - Age: Age-standardized (Percent)  \\\n",
       "0                                              0.131001                             \n",
       "1                                              0.126395                             \n",
       "2                                              0.121832                             \n",
       "3                                              0.117942                             \n",
       "4                                              0.114547                             \n",
       "...                                                 ...                             \n",
       "6835                                           0.099610                             \n",
       "6836                                           0.100821                             \n",
       "6837                                           0.101671                             \n",
       "6838                                           0.102398                             \n",
       "6839                                           0.102902                             \n",
       "\n",
       "      Prevalence - Anxiety disorders - Sex: Both - Age: Age-standardized (Percent)  \\\n",
       "0                                              4.835127                              \n",
       "1                                              4.821765                              \n",
       "2                                              4.801434                              \n",
       "3                                              4.789363                              \n",
       "4                                              4.784923                              \n",
       "...                                                 ...                              \n",
       "6835                                           3.315701                              \n",
       "6836                                           3.324230                              \n",
       "6837                                           3.330569                              \n",
       "6838                                           3.317500                              \n",
       "6839                                           3.283934                              \n",
       "\n",
       "      Prevalence - Drug use disorders - Sex: Both - Age: Age-standardized (Percent)  \\\n",
       "0                                              0.454202                               \n",
       "1                                              0.447112                               \n",
       "2                                              0.441190                               \n",
       "3                                              0.435581                               \n",
       "4                                              0.431822                               \n",
       "...                                                 ...                               \n",
       "6835                                           0.599604                               \n",
       "6836                                           0.603658                               \n",
       "6837                                           0.608096                               \n",
       "6838                                           0.609065                               \n",
       "6839                                           0.610644                               \n",
       "\n",
       "      Prevalence - Depressive disorders - Sex: Both - Age: Age-standardized (Percent)  \\\n",
       "0                                              5.125291                                 \n",
       "1                                              5.116306                                 \n",
       "2                                              5.106558                                 \n",
       "3                                              5.100328                                 \n",
       "4                                              5.099424                                 \n",
       "...                                                 ...                                 \n",
       "6835                                           3.548613                                 \n",
       "6836                                           3.557508                                 \n",
       "6837                                           3.564138                                 \n",
       "6838                                           3.563141                                 \n",
       "6839                                           3.554571                                 \n",
       "\n",
       "      Prevalence - Alcohol use disorders - Sex: Both - Age: Age-standardized (Percent)  \\\n",
       "0                                              0.444036                                  \n",
       "1                                              0.444250                                  \n",
       "2                                              0.445501                                  \n",
       "3                                              0.445958                                  \n",
       "4                                              0.445779                                  \n",
       "...                                                 ...                                  \n",
       "6835                                           1.734969                                  \n",
       "6836                                           1.689281                                  \n",
       "6837                                           1.651805                                  \n",
       "6838                                           1.686711                                  \n",
       "6839                                           1.776729                                  \n",
       "\n",
       "      DALYs (Disability-Adjusted Life Years) - Mental disorders - Sex: Both - Age: All Ages (Percent)  \n",
       "0                                              1.696670                                                \n",
       "1                                              1.734281                                                \n",
       "2                                              1.791189                                                \n",
       "3                                              1.776779                                                \n",
       "4                                              1.712986                                                \n",
       "...                                                 ...                                                \n",
       "6835                                           2.193166                                                \n",
       "6836                                           2.279813                                                \n",
       "6837                                           2.364265                                                \n",
       "6838                                           2.472949                                                \n",
       "6839                                           2.525892                                                \n",
       "\n",
       "[6840 rows x 10 columns]>"
      ]
     },
     "execution_count": 16,
     "metadata": {},
     "output_type": "execute_result"
    }
   ],
   "source": [
    "data.describe"
   ]
  },
  {
   "cell_type": "code",
   "execution_count": 17,
   "metadata": {
    "colab": {
     "base_uri": "https://localhost:8080/"
    },
    "id": "ZGdC8-UC2ybz",
    "outputId": "49051791-6fe7-4da9-b339-70147beb0784"
   },
   "outputs": [
    {
     "name": "stdout",
     "output_type": "stream",
     "text": [
      "Afghanistan         30\n",
      "Northern Ireland    30\n",
      "Norway              30\n",
      "OECD Countries      30\n",
      "Oman                30\n",
      "                    ..\n",
      "Guam                30\n",
      "Guatemala           30\n",
      "Guinea              30\n",
      "Guinea-Bissau       30\n",
      "Zimbabwe            30\n",
      "Name: Entity, Length: 228, dtype: int64\n"
     ]
    },
    {
     "data": {
      "text/plain": [
       "array([  0,   1,   2,   3,   4,   5,   6,   7,   8,   9,  10,  11,  12,\n",
       "        13,  14,  15,  16,  17,  18,  19,  20,  21,  22,  23,  24,  25,\n",
       "        26,  27,  28,  29,  30,  31,  32,  33,  34,  35,  36,  37,  38,\n",
       "        39,  40,  41,  42,  43,  44,  45,  46,  47,  48,  49,  50,  51,\n",
       "        52,  53,  54,  55,  56,  57,  58,  59,  60,  61,  62,  63,  64,\n",
       "        65,  66,  67,  68,  69,  70,  71,  72,  73,  74,  75,  76,  77,\n",
       "        78,  79,  80,  81,  82,  83,  84,  85,  86,  87,  88,  89,  90,\n",
       "        91,  92,  93,  94,  95,  96,  97,  98,  99, 100, 101, 102, 103,\n",
       "       104, 105, 106, 107, 108, 109, 110, 111, 112, 113, 114, 115, 116,\n",
       "       117, 118, 119, 120, 121, 122, 123, 124, 125, 126, 127, 128, 129,\n",
       "       130, 131, 132, 133, 134, 135, 136, 137, 138, 139, 140, 141, 142,\n",
       "       143, 144, 145, 146, 147, 148, 149, 150, 151, 152, 153, 154, 155,\n",
       "       156, 157, 158, 159, 160, 161, 162, 163, 164, 165, 166, 167, 168,\n",
       "       169, 170, 171, 172, 173, 174, 175, 176, 177, 178, 179, 180, 181,\n",
       "       182, 183, 184, 185, 186, 187, 188, 189, 190, 191, 192, 193, 194,\n",
       "       195, 196, 197, 198, 199, 200, 201, 202, 203, 204, 205, 206, 207,\n",
       "       208, 209, 210, 211, 212, 213, 214, 215, 216, 217, 218, 219, 220,\n",
       "       221, 222, 223, 224, 225, 226, 227])"
      ]
     },
     "execution_count": 17,
     "metadata": {},
     "output_type": "execute_result"
    }
   ],
   "source": [
    "# assigning numeric values to country name\n",
    "\n",
    "# Import label encoder\n",
    "from sklearn import preprocessing\n",
    "label_encoder = preprocessing.LabelEncoder()\n",
    "# rpontiong nuimber of category\n",
    "print(data['Entity'].value_counts())\n",
    "\n",
    "# encoding into numeric values\n",
    "data['Entity']= label_encoder.fit_transform(data['Entity'])\n",
    "data['Entity'].unique()"
   ]
  },
  {
   "cell_type": "code",
   "execution_count": 18,
   "metadata": {
    "colab": {
     "base_uri": "https://localhost:8080/",
     "height": 423
    },
    "id": "FM2l3lxc52Z1",
    "outputId": "d1b55f13-aed1-4954-f2b8-7751dc7adf92"
   },
   "outputs": [
    {
     "data": {
      "text/html": [
       "<div>\n",
       "<style scoped>\n",
       "    .dataframe tbody tr th:only-of-type {\n",
       "        vertical-align: middle;\n",
       "    }\n",
       "\n",
       "    .dataframe tbody tr th {\n",
       "        vertical-align: top;\n",
       "    }\n",
       "\n",
       "    .dataframe thead th {\n",
       "        text-align: right;\n",
       "    }\n",
       "</style>\n",
       "<table border=\"1\" class=\"dataframe\">\n",
       "  <thead>\n",
       "    <tr style=\"text-align: right;\">\n",
       "      <th></th>\n",
       "      <th>Country</th>\n",
       "      <th>Year</th>\n",
       "      <th>Schizophrenia</th>\n",
       "      <th>Bipolar_disorder</th>\n",
       "      <th>Eating_disorder</th>\n",
       "      <th>Anxiety</th>\n",
       "      <th>drug_usage</th>\n",
       "      <th>depression</th>\n",
       "      <th>alcohol</th>\n",
       "      <th>mental_fitness</th>\n",
       "    </tr>\n",
       "  </thead>\n",
       "  <tbody>\n",
       "    <tr>\n",
       "      <th>0</th>\n",
       "      <td>0</td>\n",
       "      <td>1990</td>\n",
       "      <td>0.228979</td>\n",
       "      <td>0.721207</td>\n",
       "      <td>0.131001</td>\n",
       "      <td>4.835127</td>\n",
       "      <td>0.454202</td>\n",
       "      <td>5.125291</td>\n",
       "      <td>0.444036</td>\n",
       "      <td>1.696670</td>\n",
       "    </tr>\n",
       "    <tr>\n",
       "      <th>1</th>\n",
       "      <td>0</td>\n",
       "      <td>1991</td>\n",
       "      <td>0.228120</td>\n",
       "      <td>0.719952</td>\n",
       "      <td>0.126395</td>\n",
       "      <td>4.821765</td>\n",
       "      <td>0.447112</td>\n",
       "      <td>5.116306</td>\n",
       "      <td>0.444250</td>\n",
       "      <td>1.734281</td>\n",
       "    </tr>\n",
       "    <tr>\n",
       "      <th>2</th>\n",
       "      <td>0</td>\n",
       "      <td>1992</td>\n",
       "      <td>0.227328</td>\n",
       "      <td>0.718418</td>\n",
       "      <td>0.121832</td>\n",
       "      <td>4.801434</td>\n",
       "      <td>0.441190</td>\n",
       "      <td>5.106558</td>\n",
       "      <td>0.445501</td>\n",
       "      <td>1.791189</td>\n",
       "    </tr>\n",
       "    <tr>\n",
       "      <th>3</th>\n",
       "      <td>0</td>\n",
       "      <td>1993</td>\n",
       "      <td>0.226468</td>\n",
       "      <td>0.717452</td>\n",
       "      <td>0.117942</td>\n",
       "      <td>4.789363</td>\n",
       "      <td>0.435581</td>\n",
       "      <td>5.100328</td>\n",
       "      <td>0.445958</td>\n",
       "      <td>1.776779</td>\n",
       "    </tr>\n",
       "    <tr>\n",
       "      <th>4</th>\n",
       "      <td>0</td>\n",
       "      <td>1994</td>\n",
       "      <td>0.225567</td>\n",
       "      <td>0.717012</td>\n",
       "      <td>0.114547</td>\n",
       "      <td>4.784923</td>\n",
       "      <td>0.431822</td>\n",
       "      <td>5.099424</td>\n",
       "      <td>0.445779</td>\n",
       "      <td>1.712986</td>\n",
       "    </tr>\n",
       "    <tr>\n",
       "      <th>...</th>\n",
       "      <td>...</td>\n",
       "      <td>...</td>\n",
       "      <td>...</td>\n",
       "      <td>...</td>\n",
       "      <td>...</td>\n",
       "      <td>...</td>\n",
       "      <td>...</td>\n",
       "      <td>...</td>\n",
       "      <td>...</td>\n",
       "      <td>...</td>\n",
       "    </tr>\n",
       "    <tr>\n",
       "      <th>6835</th>\n",
       "      <td>227</td>\n",
       "      <td>2015</td>\n",
       "      <td>0.209359</td>\n",
       "      <td>0.560882</td>\n",
       "      <td>0.099610</td>\n",
       "      <td>3.315701</td>\n",
       "      <td>0.599604</td>\n",
       "      <td>3.548613</td>\n",
       "      <td>1.734969</td>\n",
       "      <td>2.193166</td>\n",
       "    </tr>\n",
       "    <tr>\n",
       "      <th>6836</th>\n",
       "      <td>227</td>\n",
       "      <td>2016</td>\n",
       "      <td>0.209979</td>\n",
       "      <td>0.561768</td>\n",
       "      <td>0.100821</td>\n",
       "      <td>3.324230</td>\n",
       "      <td>0.603658</td>\n",
       "      <td>3.557508</td>\n",
       "      <td>1.689281</td>\n",
       "      <td>2.279813</td>\n",
       "    </tr>\n",
       "    <tr>\n",
       "      <th>6837</th>\n",
       "      <td>227</td>\n",
       "      <td>2017</td>\n",
       "      <td>0.210631</td>\n",
       "      <td>0.562612</td>\n",
       "      <td>0.101671</td>\n",
       "      <td>3.330569</td>\n",
       "      <td>0.608096</td>\n",
       "      <td>3.564138</td>\n",
       "      <td>1.651805</td>\n",
       "      <td>2.364265</td>\n",
       "    </tr>\n",
       "    <tr>\n",
       "      <th>6838</th>\n",
       "      <td>227</td>\n",
       "      <td>2018</td>\n",
       "      <td>0.211237</td>\n",
       "      <td>0.563283</td>\n",
       "      <td>0.102398</td>\n",
       "      <td>3.317500</td>\n",
       "      <td>0.609065</td>\n",
       "      <td>3.563141</td>\n",
       "      <td>1.686711</td>\n",
       "      <td>2.472949</td>\n",
       "    </tr>\n",
       "    <tr>\n",
       "      <th>6839</th>\n",
       "      <td>227</td>\n",
       "      <td>2019</td>\n",
       "      <td>0.211969</td>\n",
       "      <td>0.563820</td>\n",
       "      <td>0.102902</td>\n",
       "      <td>3.283934</td>\n",
       "      <td>0.610644</td>\n",
       "      <td>3.554571</td>\n",
       "      <td>1.776729</td>\n",
       "      <td>2.525892</td>\n",
       "    </tr>\n",
       "  </tbody>\n",
       "</table>\n",
       "<p>6840 rows × 10 columns</p>\n",
       "</div>"
      ],
      "text/plain": [
       "      Country  Year  Schizophrenia  Bipolar_disorder  Eating_disorder  \\\n",
       "0           0  1990       0.228979          0.721207         0.131001   \n",
       "1           0  1991       0.228120          0.719952         0.126395   \n",
       "2           0  1992       0.227328          0.718418         0.121832   \n",
       "3           0  1993       0.226468          0.717452         0.117942   \n",
       "4           0  1994       0.225567          0.717012         0.114547   \n",
       "...       ...   ...            ...               ...              ...   \n",
       "6835      227  2015       0.209359          0.560882         0.099610   \n",
       "6836      227  2016       0.209979          0.561768         0.100821   \n",
       "6837      227  2017       0.210631          0.562612         0.101671   \n",
       "6838      227  2018       0.211237          0.563283         0.102398   \n",
       "6839      227  2019       0.211969          0.563820         0.102902   \n",
       "\n",
       "       Anxiety  drug_usage  depression   alcohol  mental_fitness  \n",
       "0     4.835127    0.454202    5.125291  0.444036        1.696670  \n",
       "1     4.821765    0.447112    5.116306  0.444250        1.734281  \n",
       "2     4.801434    0.441190    5.106558  0.445501        1.791189  \n",
       "3     4.789363    0.435581    5.100328  0.445958        1.776779  \n",
       "4     4.784923    0.431822    5.099424  0.445779        1.712986  \n",
       "...        ...         ...         ...       ...             ...  \n",
       "6835  3.315701    0.599604    3.548613  1.734969        2.193166  \n",
       "6836  3.324230    0.603658    3.557508  1.689281        2.279813  \n",
       "6837  3.330569    0.608096    3.564138  1.651805        2.364265  \n",
       "6838  3.317500    0.609065    3.563141  1.686711        2.472949  \n",
       "6839  3.283934    0.610644    3.554571  1.776729        2.525892  \n",
       "\n",
       "[6840 rows x 10 columns]"
      ]
     },
     "execution_count": 18,
     "metadata": {},
     "output_type": "execute_result"
    }
   ],
   "source": [
    "# renaming columns\n",
    "data.set_axis(['Country','Year','Schizophrenia', 'Bipolar_disorder', 'Eating_disorder','Anxiety','drug_usage','depression','alcohol','mental_fitness'], axis='columns')"
   ]
  },
  {
   "cell_type": "code",
   "execution_count": 19,
   "metadata": {
    "colab": {
     "base_uri": "https://localhost:8080/"
    },
    "id": "X6z_tR-3-RXL",
    "outputId": "c4e98d8d-e12a-434a-f19b-124fbab163fd"
   },
   "outputs": [
    {
     "name": "stderr",
     "output_type": "stream",
     "text": [
      "C:\\Users\\mayank\\AppData\\Local\\Temp\\ipykernel_6356\\683401956.py:1: FutureWarning: DataFrame.set_axis 'inplace' keyword is deprecated and will be removed in a future version. Use `obj = obj.set_axis(..., copy=False)` instead\n",
      "  data.set_axis(['Country','Year','Schizophrenia', 'Bipolar_disorder', 'Eating_disorder','Anxiety','drug_usage','depression','alcohol','mental_fitness'], axis='columns', inplace=True)\n"
     ]
    }
   ],
   "source": [
    "data.set_axis(['Country','Year','Schizophrenia', 'Bipolar_disorder', 'Eating_disorder','Anxiety','drug_usage','depression','alcohol','mental_fitness'], axis='columns', inplace=True)"
   ]
  },
  {
   "cell_type": "code",
   "execution_count": 20,
   "metadata": {
    "id": "nb10m_fy5Jc5"
   },
   "outputs": [],
   "source": [
    "# Exploratory analysis begins"
   ]
  },
  {
   "cell_type": "code",
   "execution_count": 21,
   "metadata": {
    "colab": {
     "base_uri": "https://localhost:8080/",
     "height": 645
    },
    "id": "3aYTLkup3vxV",
    "outputId": "c1f8399f-f2da-4d80-dfa4-25e51d20ad09"
   },
   "outputs": [
    {
     "data": {
      "text/plain": [
       "[]"
      ]
     },
     "execution_count": 21,
     "metadata": {},
     "output_type": "execute_result"
    },
    {
     "data": {
      "image/png": "[encoded data removed]",
      "text/plain": [
       "<Figure size 1200x600 with 2 Axes>"
      ]
     },
     "metadata": {},
     "output_type": "display_data"
    }
   ],
   "source": [
    "plt.figure(figsize=(12,6))\n",
    "sns.heatmap(data.corr(),annot=True,cmap='Purples')\n",
    "plt.plot()"
   ]
  },
  {
   "cell_type": "code",
   "execution_count": null,
   "metadata": {
    "colab": {
     "base_uri": "https://localhost:8080/",
     "height": 1000
    },
    "id": "y_zn9HDn5YAV",
    "outputId": "d5b14444-daa2-46ca-a4e8-7473c52dca06"
   },
   "outputs": [],
   "source": [
    "sns.jointplot(data,x='Schizophrenia',y='mental_fitness',kind='reg',color='m',height=6)\n",
    "sns.jointplot(data,x='Bipolar_disorder',y='mental_fitness',kind='reg',color='blue',height=6)\n",
    "sns.jointplot(data,x = 'Eating_disorder',y = 'mental_fitness',kind='reg',color='green',height=6)\n",
    "sns.jointplot(data,x = 'Anxiety',y = 'mental_fitness',kind='reg',color='yellow',height=6)\n",
    "sns.jointplot(data,x = 'drug_usage',y = 'mental_fitness',kind='reg',color='red',height=6)\n",
    "sns.jointplot(data,x = 'depression',y = 'mental_fitness',kind='reg',color='purple',height=6)\n",
    "sns.jointplot(data,x = 'alcohol',y = 'mental_fitness',kind='reg',color='brown',height=6)\n",
    "plt.show()"
   ]
  },
  {
   "cell_type": "code",
   "execution_count": null,
   "metadata": {
    "colab": {
     "base_uri": "https://localhost:8080/",
     "height": 1000
    },
    "id": "ah0xYUg87BHG",
    "outputId": "67d000e5-ba82-4992-ca3f-8e71621dcd73"
   },
   "outputs": [],
   "source": [
    "sns.pairplot(data,corner=True)\n",
    "plt.show()"
   ]
  },
  {
   "cell_type": "code",
   "execution_count": null,
   "metadata": {
    "colab": {
     "base_uri": "https://localhost:8080/"
    },
    "id": "0RZ-ohJr-deT",
    "outputId": "cf95b613-1100-46ef-e98a-22181ae9bdbd"
   },
   "outputs": [],
   "source": [
    "mean = data['mental_fitness'].mean()\n",
    "mean"
   ]
  },
  {
   "cell_type": "code",
   "execution_count": null,
   "metadata": {
    "colab": {
     "base_uri": "https://localhost:8080/",
     "height": 542
    },
    "id": "_w_HT9Oy-oi6",
    "outputId": "614b9653-2ed7-439e-da57-82704f0b268f"
   },
   "outputs": [],
   "source": [
    "fig = px.pie(data, values='mental_fitness', names='Year')\n",
    "fig.show()"
   ]
  },
  {
   "cell_type": "code",
   "execution_count": null,
   "metadata": {
    "colab": {
     "base_uri": "https://localhost:8080/",
     "height": 542
    },
    "id": "18gk_pv9-qcW",
    "outputId": "bb6ecdb6-2031-4789-9a3d-49dc5cb802be"
   },
   "outputs": [],
   "source": [
    "fig=px.bar(data.head(10),x='Year',y='mental_fitness',color='Year',template='ggplot2')\n",
    "fig.show()"
   ]
  },
  {
   "cell_type": "code",
   "execution_count": null,
   "metadata": {
    "id": "wNhlLrmC-sP2"
   },
   "outputs": [],
   "source": [
    "# making a copy of cleaned data set for ml model\n",
    "df = data.copy()"
   ]
  },
  {
   "cell_type": "code",
   "execution_count": null,
   "metadata": {
    "colab": {
     "base_uri": "https://localhost:8080/",
     "height": 206
    },
    "id": "9tDIU0Hz-4vr",
    "outputId": "e2dafb17-50dc-4a9b-d179-371d7d9adf38"
   },
   "outputs": [],
   "source": [
    "df.head(5)"
   ]
  },
  {
   "cell_type": "code",
   "execution_count": null,
   "metadata": {
    "colab": {
     "base_uri": "https://localhost:8080/"
    },
    "id": "zglT_4qK6F9L",
    "outputId": "a6b99595-4318-4ac1-d3d2-2285ba7e403d"
   },
   "outputs": [],
   "source": [
    "df.info()"
   ]
  },
  {
   "cell_type": "code",
   "execution_count": null,
   "metadata": {
    "colab": {
     "base_uri": "https://localhost:8080/",
     "height": 300
    },
    "id": "2rbWzKWq65iI",
    "outputId": "cf229f4f-34cf-47b7-c4ab-8b55fecaeb03"
   },
   "outputs": [],
   "source": [
    "df.describe()"
   ]
  },
  {
   "cell_type": "code",
   "execution_count": null,
   "metadata": {
    "id": "kPgJalKs6_h5"
   },
   "outputs": [],
   "source": [
    "# assigning numeric values to the object type values for better predictions\n",
    "from sklearn.preprocessing import LabelEncoder\n",
    "encode=LabelEncoder()\n",
    "for i in df.columns:\n",
    "    if df[i].dtype == 'object':\n",
    "        df[i]=encode.fit_transform(df[i])"
   ]
  },
  {
   "cell_type": "code",
   "execution_count": null,
   "metadata": {
    "id": "FbJ2HAqQ8T6V"
   },
   "outputs": [],
   "source": [
    "# dividing the df into input features and output\n",
    "X = df.drop('mental_fitness',axis=1)\n",
    "y = df['mental_fitness']\n",
    "# spliting the data for trainig and testing\n",
    "from sklearn.model_selection import train_test_split\n",
    "xtrain, xtest, ytrain, ytest = train_test_split(X, y, test_size=0.2, random_state=2)"
   ]
  },
  {
   "cell_type": "code",
   "execution_count": null,
   "metadata": {
    "id": "2LVGAkZV9sX2"
   },
   "outputs": [],
   "source": [
    "# linear regression"
   ]
  },
  {
   "cell_type": "code",
   "execution_count": null,
   "metadata": {
    "colab": {
     "base_uri": "https://localhost:8080/"
    },
    "id": "2cZonYzY_9gn",
    "outputId": "01f6260d-41a8-4d7b-9fe0-516e7685b18e"
   },
   "outputs": [],
   "source": [
    "from sklearn.linear_model import LinearRegression\n",
    "from sklearn.metrics import mean_squared_error, r2_score\n",
    "lr = LinearRegression()\n",
    "lr.fit(xtrain,ytrain)\n",
    "\n",
    "# model evaluation for testing set\n",
    "ytest_pred = lr.predict(xtest)\n",
    "mse = mean_squared_error(ytest, ytest_pred)\n",
    "rmse = (np.sqrt(mean_squared_error(ytest, ytest_pred)))\n",
    "r2 = r2_score(ytest, ytest_pred)\n",
    "\n",
    "print(\"The model performance for testing set\")\n",
    "print(\"--------------------------------------\")\n",
    "print('MSE is {}'.format(mse))\n",
    "print('RMSE is {}'.format(rmse))\n",
    "print('R2 score is {}'.format(r2))"
   ]
  },
  {
   "cell_type": "code",
   "execution_count": null,
   "metadata": {
    "colab": {
     "base_uri": "https://localhost:8080/"
    },
    "id": "Ky2u5yQ_AHAQ",
    "outputId": "c73dfee5-3b20-4667-faf3-eefc1a857d74"
   },
   "outputs": [],
   "source": [
    "import xgboost as xgb\n",
    "from sklearn.model_selection import train_test_split\n",
    "from sklearn.metrics import mean_squared_error, r2_score\n",
    "\n",
    "# Creating an XGBoost regression model\n",
    "model = xgb.XGBRegressor()\n",
    "\n",
    "# Training the model\n",
    "model.fit(xtrain, ytrain)\n",
    "\n",
    "# Making predictions on the test set\n",
    "y_pred = model.predict(xtest)\n",
    "\n",
    "# Calculating MSE\n",
    "mse = mean_squared_error(ytest, ytest_pred)\n",
    "print(\"MSE:\", mse)\n",
    "\n",
    "# Calculating RMSE\n",
    "rmse = mean_squared_error(ytest, y_pred, squared=False)\n",
    "print(\"RMSE:\", rmse)\n",
    "\n",
    "# Calculating R2 score\n",
    "r2 = r2_score(ytest, y_pred)\n",
    "print(\"R2 Score:\", r2)\n"
   ]
  },
  {
   "cell_type": "code",
   "execution_count": null,
   "metadata": {},
   "outputs": [],
   "source": []
  },
  {
   "cell_type": "code",
   "execution_count": null,
   "metadata": {},
   "outputs": [],
   "source": []
  },
  {
   "cell_type": "code",
   "execution_count": null,
   "metadata": {},
   "outputs": [],
   "source": []
  },
  {
   "cell_type": "code",
   "execution_count": null,
   "metadata": {},
   "outputs": [],
   "source": []
  }
 ],
 "metadata": {
  "colab": {
   "provenance": []
  },
  "kernelspec": {
   "display_name": "Python 3 (ipykernel)",
   "language": "python",
   "name": "python3"
  },
  "language_info": {
   "codemirror_mode": {
    "name": "ipython",
    "version": 3
   },
   "file_extension": ".py",
   "mimetype": "text/x-python",
   "name": "python",
   "nbconvert_exporter": "python",
   "pygments_lexer": "ipython3",
   "version": "3.10.9"
  }
 },
 "nbformat": 4,
 "nbformat_minor": 1
}
